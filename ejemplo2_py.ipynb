{
  "nbformat": 4,
  "nbformat_minor": 0,
  "metadata": {
    "colab": {
      "provenance": [],
      "authorship_tag": "ABX9TyOAVJSnS5/VRNveJkupwCPb",
      "include_colab_link": true
    },
    "kernelspec": {
      "name": "python3",
      "display_name": "Python 3"
    },
    "language_info": {
      "name": "python"
    }
  },
  "cells": [
    {
      "cell_type": "markdown",
      "metadata": {
        "id": "view-in-github",
        "colab_type": "text"
      },
      "source": [
        "<a href=\"https://colab.research.google.com/github/PennyGomball/Miensayo/blob/main/ejemplo2_py.ipynb\" target=\"_parent\"><img src=\"https://colab.research.google.com/assets/colab-badge.svg\" alt=\"Open In Colab\"/></a>"
      ]
    },
    {
      "cell_type": "code",
      "execution_count": null,
      "metadata": {
        "id": "y9O_9SLv34tf",
        "colab": {
          "base_uri": "https://localhost:8080/"
        },
        "outputId": "2da77bdb-53ea-4085-9628-2cc046719dae"
      },
      "outputs": [
        {
          "output_type": "stream",
          "name": "stderr",
          "text": [
            "2025-04-23 20:37:41.993 Thread 'MainThread': missing ScriptRunContext! This warning can be ignored when running in bare mode.\n",
            "2025-04-23 20:37:41.994 Thread 'MainThread': missing ScriptRunContext! This warning can be ignored when running in bare mode.\n",
            "2025-04-23 20:37:41.996 Thread 'MainThread': missing ScriptRunContext! This warning can be ignored when running in bare mode.\n",
            "2025-04-23 20:37:41.997 Thread 'MainThread': missing ScriptRunContext! This warning can be ignored when running in bare mode.\n",
            "2025-04-23 20:37:41.998 Session state does not function when running a script without `streamlit run`\n",
            "2025-04-23 20:37:41.999 Thread 'MainThread': missing ScriptRunContext! This warning can be ignored when running in bare mode.\n",
            "2025-04-23 20:37:42.110 \n",
            "  \u001b[33m\u001b[1mWarning:\u001b[0m to view this Streamlit app on a browser, run it with the following\n",
            "  command:\n",
            "\n",
            "    streamlit run /usr/local/lib/python3.11/dist-packages/colab_kernel_launcher.py [ARGUMENTS]\n",
            "2025-04-23 20:37:42.111 Thread 'MainThread': missing ScriptRunContext! This warning can be ignored when running in bare mode.\n",
            "2025-04-23 20:37:42.113 Thread 'MainThread': missing ScriptRunContext! This warning can be ignored when running in bare mode.\n",
            "2025-04-23 20:37:42.114 Thread 'MainThread': missing ScriptRunContext! This warning can be ignored when running in bare mode.\n",
            "2025-04-23 20:37:42.115 Thread 'MainThread': missing ScriptRunContext! This warning can be ignored when running in bare mode.\n",
            "2025-04-23 20:37:42.116 Thread 'MainThread': missing ScriptRunContext! This warning can be ignored when running in bare mode.\n"
          ]
        },
        {
          "output_type": "stream",
          "name": "stdout",
          "text": [
            "hola\n"
          ]
        },
        {
          "output_type": "stream",
          "name": "stderr",
          "text": [
            "2025-04-23 20:37:43.024 Thread 'MainThread': missing ScriptRunContext! This warning can be ignored when running in bare mode.\n",
            "2025-04-23 20:37:43.026 Thread 'MainThread': missing ScriptRunContext! This warning can be ignored when running in bare mode.\n"
          ]
        }
      ],
      "source": [
        "from pygwalker.api.streamlit import StreamlitRenderer\n",
        "import pandas as pd\n",
        "import pygwalker as pyg\n",
        "import streamlit  as st\n",
        "\n",
        "print(\"hola\")\n",
        "\n",
        "# se asigna a variable mfile la ruta de mi archivo local en este entorno\n",
        "mfile = 'ventasejemplo.csv'\n",
        "\n",
        "# Uso de la funcion read_csv para leer el archivo Misdatos seria una variable que contiene la matriz\n",
        "\n",
        "# uso de 2 parametros separador\n",
        "Misdatos = pd.read_csv(mfile, sep=';')\n",
        "\n",
        "opcion = st.selectbox(\"elija\",(\"Grafico de barras\",\"Grafico de areas\",\"Leer\"))\n",
        "\n",
        "st.write(\"Tu seleccion :\", opcion)\n",
        "\n",
        "if opcion == \"Grafico de barras\":\n",
        "\n",
        "\n",
        "    st.bar_chart(Misdatos,x=\"Nombre del Producto\",y=\"Cantidad Vendida\")\n",
        "\n",
        "if opcion == \"Grafico de areas\":\n",
        "    st.area_chart(Misdatos,x=\"Nombre del Producto\",y=\"Cantidad Vendida\")\n",
        "if opcion == \"Leer\":\n",
        "    #pyg_app = StreamlitRenderer(mfile)\n",
        "    #pyg_app.explorer()\n",
        "     pyg.walk(mfile,env=\"streamlit\")\n"
      ]
    },
    {
      "cell_type": "code",
      "source": [
        "streamlit run ejemplo2\n"
      ],
      "metadata": {
        "id": "hHX6dUkMV7FS",
        "colab": {
          "base_uri": "https://localhost:8080/",
          "height": 106
        },
        "outputId": "59666ef3-c462-44b9-e07e-6e8dec92bafb"
      },
      "execution_count": null,
      "outputs": [
        {
          "output_type": "error",
          "ename": "SyntaxError",
          "evalue": "invalid syntax (<ipython-input-9-cb416b164983>, line 1)",
          "traceback": [
            "\u001b[0;36m  File \u001b[0;32m\"<ipython-input-9-cb416b164983>\"\u001b[0;36m, line \u001b[0;32m1\u001b[0m\n\u001b[0;31m    streamlit run ejemplo2\u001b[0m\n\u001b[0m              ^\u001b[0m\n\u001b[0;31mSyntaxError\u001b[0m\u001b[0;31m:\u001b[0m invalid syntax\n"
          ]
        }
      ]
    },
    {
      "cell_type": "code",
      "source": [
        "/usr/local/lib/python3.11/dist-packages/colab_kernel_launcher.py"
      ],
      "metadata": {
        "id": "ArnajIe2XHU2",
        "colab": {
          "base_uri": "https://localhost:8080/",
          "height": 106
        },
        "outputId": "d26c1913-aa2c-492e-aaf3-1da1925b5ff6"
      },
      "execution_count": null,
      "outputs": [
        {
          "output_type": "error",
          "ename": "SyntaxError",
          "evalue": "invalid syntax (<ipython-input-10-7c3ed17c9959>, line 1)",
          "traceback": [
            "\u001b[0;36m  File \u001b[0;32m\"<ipython-input-10-7c3ed17c9959>\"\u001b[0;36m, line \u001b[0;32m1\u001b[0m\n\u001b[0;31m    usr/local/lib/python3.11/dist-packages/colab_kernel_launcher.py()\u001b[0m\n\u001b[0m                         ^\u001b[0m\n\u001b[0;31mSyntaxError\u001b[0m\u001b[0;31m:\u001b[0m invalid syntax\n"
          ]
        }
      ]
    },
    {
      "cell_type": "code",
      "source": [
        "!streamlit run /usr/local/lib/python3.11/dist-packages/ejemplo2.py"
      ],
      "metadata": {
        "colab": {
          "base_uri": "https://localhost:8080/"
        },
        "id": "fQ_rPdD7TLMo",
        "outputId": "22b2722c-4a09-427b-cdfa-df28f5c839c8"
      },
      "execution_count": null,
      "outputs": [
        {
          "output_type": "stream",
          "name": "stdout",
          "text": [
            "Usage: streamlit run [OPTIONS] TARGET [ARGS]...\n",
            "Try 'streamlit run --help' for help.\n",
            "\n",
            "Error: Invalid value: File does not exist: /usr/local/lib/python3.11/dist-packages/ejemplo2.py\n"
          ]
        }
      ]
    }
  ]
}